{
 "cells": [
  {
   "cell_type": "code",
   "execution_count": 5,
   "id": "3c2bce1c",
   "metadata": {},
   "outputs": [],
   "source": [
    "from ibmpairs import paw, authentication\n",
    "\n",
    "import requests, urllib, json\n",
    "import pandas as pd, numpy as np\n",
    "#from osgeo import gdal check later\n",
    "import matplotlib.pyplot as plt\n",
    "from datetime import datetime, timedelta\n",
    "from calendar import timegm\n",
    "import logging\n",
    "from pathlib import Path"
   ]
  },
  {
   "cell_type": "code",
   "execution_count": 6,
   "id": "d8f0d7b5",
   "metadata": {},
   "outputs": [],
   "source": [
    "logging.basicConfig(level=logging.INFO)\n",
    "pawLogger = logging.getLogger('ibmpairs.paw')\n",
    "pawLogger.setLevel(logging.ERROR)"
   ]
  },
  {
   "cell_type": "code",
   "execution_count": 8,
   "id": "8a91b243",
   "metadata": {},
   "outputs": [],
   "source": [
    "PAIRS_API_KEY = 'hAiaRJNxNPU704V09GNCFZvOSHXhFkZcRyb0KJAj2FY' # Put your API key here. Important: Best practice is not to include secrets in source code.\n",
    "PAIRS_SERVER   = 'https://pairs.res.ibm.com'\n",
    "PAIRS_CREDENTIALS = authentication.OAuth2(api_key = PAIRS_API_KEY)"
   ]
  },
  {
   "cell_type": "code",
   "execution_count": 9,
   "id": "bb864010",
   "metadata": {},
   "outputs": [],
   "source": [
    "auth_header = {'Authorization': f'Bearer {PAIRS_CREDENTIALS.jwt_token}'}"
   ]
  },
  {
   "cell_type": "code",
   "execution_count": 20,
   "id": "2f1cc467",
   "metadata": {},
   "outputs": [
    {
     "name": "stdout",
     "output_type": "stream",
     "text": [
      "2022-05-21 12:52:43 - paw - INFO - Attempting to refresh authentication token.\n",
      "2022-05-21 12:52:44 - paw - INFO - The token was successfully refreshed.\n"
     ]
    }
   ],
   "source": [
    "#To renew the creditentials\n",
    "PAIRS_CREDENTIALS.refresh_auth_token()\n",
    "auth_header = {'Authorization': f'Bearer {PAIRS_CREDENTIALS.jwt_token}'}"
   ]
  },
  {
   "cell_type": "code",
   "execution_count": 25,
   "id": "be64f8ab",
   "metadata": {},
   "outputs": [],
   "source": [
    "def point_query(layer_id,start_time,end_time,long,lat):\n",
    "    \n",
    "    query_json = {\n",
    "    'layers' : [\n",
    "        {'id' : layer_id}\n",
    "    ],\n",
    "    'spatial' : {'type' : 'point', 'coordinates' : [long,lat]},\n",
    "    'temporal' : {'intervals' : [{'start' : start_time.strftime(iso_8601), 'end' : end_time.strftime(iso_8601)}]}\n",
    "    }\n",
    "\n",
    "    query = paw.PAIRSQuery(query_json, auth=PAIRS_CREDENTIALS, authType='api-key')\n",
    "    query.submit()\n",
    "    "
   ]
  },
  {
   "cell_type": "code",
   "execution_count": 26,
   "id": "10ee7f73",
   "metadata": {},
   "outputs": [
    {
     "name": "stderr",
     "output_type": "stream",
     "text": [
      "ERROR:ibmpairs.paw:Unable to load point data into dataframe employing format 'text/csv': 'Querying PAIRS resulted in HTTP error code '404': <html>\r\n",
      "<head><title>404 Not Found</title></head>\r\n",
      "<body>\r\n",
      "<center><h1>404 Not Found</h1></center>\r\n",
      "<hr><center>openresty/1.19.3.1</center>\r\n",
      "</body>\r\n",
      "</html>\r\n",
      ".'.\n"
     ]
    },
    {
     "ename": "Exception",
     "evalue": "Querying PAIRS resulted in HTTP error code '404': <html>\r\n<head><title>404 Not Found</title></head>\r\n<body>\r\n<center><h1>404 Not Found</h1></center>\r\n<hr><center>openresty/1.19.3.1</center>\r\n</body>\r\n</html>\r\n.",
     "output_type": "error",
     "traceback": [
      "\u001b[1;31m---------------------------------------------------------------------------\u001b[0m",
      "\u001b[1;31mException\u001b[0m                                 Traceback (most recent call last)",
      "Input \u001b[1;32mIn [26]\u001b[0m, in \u001b[0;36m<cell line: 3>\u001b[1;34m()\u001b[0m\n\u001b[0;32m      1\u001b[0m start_time \u001b[38;5;241m=\u001b[39m datetime(\u001b[38;5;241m2016\u001b[39m, \u001b[38;5;241m1\u001b[39m, \u001b[38;5;241m1\u001b[39m)\n\u001b[0;32m      2\u001b[0m end_time \u001b[38;5;241m=\u001b[39m datetime(\u001b[38;5;241m2022\u001b[39m, \u001b[38;5;241m1\u001b[39m, \u001b[38;5;241m1\u001b[39m)\n\u001b[1;32m----> 3\u001b[0m \u001b[43mpoint_query\u001b[49m\u001b[43m(\u001b[49m\u001b[38;5;241;43m49423\u001b[39;49m\u001b[43m,\u001b[49m\u001b[43mstart_time\u001b[49m\u001b[43m,\u001b[49m\u001b[43mend_time\u001b[49m\u001b[43m,\u001b[49m\u001b[38;5;241;43m0.\u001b[39;49m\u001b[43m,\u001b[49m\u001b[38;5;241;43m0.\u001b[39;49m\u001b[43m)\u001b[49m\n",
      "Input \u001b[1;32mIn [25]\u001b[0m, in \u001b[0;36mpoint_query\u001b[1;34m(layer_id, start_time, end_time, long, lat)\u001b[0m\n\u001b[0;32m      3\u001b[0m query_json \u001b[38;5;241m=\u001b[39m {\n\u001b[0;32m      4\u001b[0m \u001b[38;5;124m'\u001b[39m\u001b[38;5;124mlayers\u001b[39m\u001b[38;5;124m'\u001b[39m : [\n\u001b[0;32m      5\u001b[0m     {\u001b[38;5;124m'\u001b[39m\u001b[38;5;124mid\u001b[39m\u001b[38;5;124m'\u001b[39m : layer_id}\n\u001b[1;32m   (...)\u001b[0m\n\u001b[0;32m      8\u001b[0m \u001b[38;5;124m'\u001b[39m\u001b[38;5;124mtemporal\u001b[39m\u001b[38;5;124m'\u001b[39m : {\u001b[38;5;124m'\u001b[39m\u001b[38;5;124mintervals\u001b[39m\u001b[38;5;124m'\u001b[39m : [{\u001b[38;5;124m'\u001b[39m\u001b[38;5;124mstart\u001b[39m\u001b[38;5;124m'\u001b[39m : start_time\u001b[38;5;241m.\u001b[39mstrftime(iso_8601), \u001b[38;5;124m'\u001b[39m\u001b[38;5;124mend\u001b[39m\u001b[38;5;124m'\u001b[39m : end_time\u001b[38;5;241m.\u001b[39mstrftime(iso_8601)}]}\n\u001b[0;32m      9\u001b[0m }\n\u001b[0;32m     11\u001b[0m query \u001b[38;5;241m=\u001b[39m paw\u001b[38;5;241m.\u001b[39mPAIRSQuery(query_json, auth\u001b[38;5;241m=\u001b[39mPAIRS_CREDENTIALS, authType\u001b[38;5;241m=\u001b[39m\u001b[38;5;124m'\u001b[39m\u001b[38;5;124mapi-key\u001b[39m\u001b[38;5;124m'\u001b[39m)\n\u001b[1;32m---> 12\u001b[0m \u001b[43mquery\u001b[49m\u001b[38;5;241;43m.\u001b[39;49m\u001b[43msubmit\u001b[49m\u001b[43m(\u001b[49m\u001b[43m)\u001b[49m\n",
      "File \u001b[1;32m~\\AppData\\Local\\Programs\\Python\\Python310\\lib\\site-packages\\ibmpairs\\paw.py:1131\u001b[0m, in \u001b[0;36mPAIRSQuery.submit\u001b[1;34m(self)\u001b[0m\n\u001b[0;32m   1129\u001b[0m \u001b[38;5;28;01mtry\u001b[39;00m:\n\u001b[0;32m   1130\u001b[0m     \u001b[38;5;28;01mif\u001b[39;00m \u001b[38;5;28mself\u001b[39m\u001b[38;5;241m.\u001b[39mqueryStatus\u001b[38;5;241m.\u001b[39mstatus_code \u001b[38;5;241m!=\u001b[39m \u001b[38;5;241m200\u001b[39m:\n\u001b[1;32m-> 1131\u001b[0m         \u001b[38;5;28;01mraise\u001b[39;00m \u001b[38;5;167;01mException\u001b[39;00m(\n\u001b[0;32m   1132\u001b[0m                 \u001b[38;5;124m\"\u001b[39m\u001b[38;5;124mQuerying PAIRS resulted in HTTP error code \u001b[39m\u001b[38;5;124m'\u001b[39m\u001b[38;5;132;01m{}\u001b[39;00m\u001b[38;5;124m'\u001b[39m\u001b[38;5;124m: \u001b[39m\u001b[38;5;132;01m{}\u001b[39;00m\u001b[38;5;124m.\u001b[39m\u001b[38;5;124m\"\u001b[39m\u001b[38;5;241m.\u001b[39mformat(\n\u001b[0;32m   1133\u001b[0m                 \u001b[38;5;28mself\u001b[39m\u001b[38;5;241m.\u001b[39mqueryStatus\u001b[38;5;241m.\u001b[39mstatus_code,\n\u001b[0;32m   1134\u001b[0m                 \u001b[38;5;28mself\u001b[39m\u001b[38;5;241m.\u001b[39mqueryStatus\u001b[38;5;241m.\u001b[39mtext,\n\u001b[0;32m   1135\u001b[0m             )\n\u001b[0;32m   1136\u001b[0m         )\n\u001b[0;32m   1137\u001b[0m     \u001b[38;5;28;01melse\u001b[39;00m:\n\u001b[0;32m   1138\u001b[0m         \u001b[38;5;28;01mif\u001b[39;00m \u001b[38;5;28mself\u001b[39m\u001b[38;5;241m.\u001b[39mPAIRS_POINT_QUERY_RESP_FORMAT\u001b[38;5;241m.\u001b[39mlower()\u001b[38;5;241m==\u001b[39m\u001b[38;5;124m'\u001b[39m\u001b[38;5;124mtext/csv\u001b[39m\u001b[38;5;124m'\u001b[39m:\n",
      "\u001b[1;31mException\u001b[0m: Querying PAIRS resulted in HTTP error code '404': <html>\r\n<head><title>404 Not Found</title></head>\r\n<body>\r\n<center><h1>404 Not Found</h1></center>\r\n<hr><center>openresty/1.19.3.1</center>\r\n</body>\r\n</html>\r\n."
     ]
    }
   ],
   "source": [
    "start_time = datetime(2016, 1, 1)\n",
    "end_time = datetime(2022, 1, 1)\n",
    "point_query(49423,start_time,end_time,0.,0.)"
   ]
  },
  {
   "cell_type": "code",
   "execution_count": null,
   "id": "a8a5483e",
   "metadata": {},
   "outputs": [],
   "source": []
  }
 ],
 "metadata": {
  "kernelspec": {
   "display_name": "Python 3 (ipykernel)",
   "language": "python",
   "name": "python3"
  },
  "language_info": {
   "codemirror_mode": {
    "name": "ipython",
    "version": 3
   },
   "file_extension": ".py",
   "mimetype": "text/x-python",
   "name": "python",
   "nbconvert_exporter": "python",
   "pygments_lexer": "ipython3",
   "version": "3.10.2"
  }
 },
 "nbformat": 4,
 "nbformat_minor": 5
}
