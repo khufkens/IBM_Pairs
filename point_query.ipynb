{
 "cells": [
  {
   "cell_type": "code",
   "execution_count": 2,
   "id": "2fc882c4",
   "metadata": {},
   "outputs": [],
   "source": [
    "import json\n",
    "from ibmpairs import paw, authentication\n",
    "\n",
    "PAIRS_API_KEY = 'hAiaRJNxNPU704V09GNCFZvOSHXhFkZcRyb0KJAj2FY' # Put your API key here. Important: Best practice is not to include secrets in source code.\n",
    "PAIRS_SERVER   = 'https://pairs.res.ibm.com/'\n",
    "PAIRS_CREDENTIALS = authentication.OAuth2(api_key = PAIRS_API_KEY)"
   ]
  },
  {
   "cell_type": "code",
   "execution_count": 3,
   "id": "f1ba50cd",
   "metadata": {},
   "outputs": [],
   "source": [
    "def create_point_query(layer_id,long,lat,start,end):\n",
    "    \n",
    "    query_json = {\n",
    "       \"layers\" : [\n",
    "         {\"type\" : \"raster\", \"id\" : layer_id}\n",
    "       ],\n",
    "       \"spatial\" : {\"type\" : \"point\", \"coordinates\" : [long, lat]},\n",
    "       \"temporal\" : {\"intervals\" : [\n",
    "         {\"start\" : start, \"end\" : end}\n",
    "       ]}\n",
    "     }\n",
    "    \n",
    "    return query_json"
   ]
  },
  {
   "cell_type": "code",
   "execution_count": 4,
   "id": "f91acb78",
   "metadata": {},
   "outputs": [],
   "source": [
    "query = create_point_query(\"16100\",\"35.7\",\"139.7\",\"2015-01-01T00:00:00Z\",\"2018-10-31T00:00:00Z\")"
   ]
  },
  {
   "cell_type": "code",
   "execution_count": 5,
   "id": "297f119b",
   "metadata": {},
   "outputs": [
    {
     "name": "stderr",
     "output_type": "stream",
     "text": [
      "`pairsHost`='https://pairs.res.ibm.com/' and `baseURI`='/' merged to: 'https://pairs.res.ibm.com/'\n",
      "C:\\Users\\Didem Durukan\\AppData\\Local\\Programs\\Python\\Python310\\lib\\site-packages\\pandas\\core\\dtypes\\cast.py:122: ShapelyDeprecationWarning: The array interface is deprecated and will no longer work in Shapely 2.0. Convert the '.coords' to a numpy array instead.\n",
      "  arr = construct_1d_object_array_from_listlike(values)\n",
      "GeoPandas not available on your system. Cannot convert vector dataframe to GeoPandas dataframe.\n"
     ]
    }
   ],
   "source": [
    "query = paw.PAIRSQuery(query_json, PAIRS_SERVER, PAIRS_CREDENTIALS, authType='api-key')\n",
    "query.submit()"
   ]
  },
  {
   "cell_type": "code",
   "execution_count": 6,
   "id": "78706ef8",
   "metadata": {},
   "outputs": [
    {
     "name": "stdout",
     "output_type": "stream",
     "text": [
      "       layerId      timestamp  longitude  latitude       value  region  \\\n",
      "0        16100  1421528400000      139.7      35.7  273.918213     NaN   \n",
      "1        16100  1421539200000      139.7      35.7  276.215088     NaN   \n",
      "2        16100  1421550000000      139.7      35.7  279.270203     NaN   \n",
      "3        16100  1421560800000      139.7      35.7  280.529205     NaN   \n",
      "4        16100  1421571600000      139.7      35.7  278.194702     NaN   \n",
      "...        ...            ...        ...       ...         ...     ...   \n",
      "11029    16100  1540900800000      139.7      35.7  292.996490     NaN   \n",
      "11030    16100  1540911600000      139.7      35.7  290.832428     NaN   \n",
      "11031    16100  1540922400000      139.7      35.7  289.580719     NaN   \n",
      "11032    16100  1540933200000      139.7      35.7  288.469727     NaN   \n",
      "11033    16100  1540944000000      139.7      35.7  289.536591     NaN   \n",
      "\n",
      "       property  alias            geometry  \n",
      "0           NaN    NaN  POINT (139.7 35.7)  \n",
      "1           NaN    NaN  POINT (139.7 35.7)  \n",
      "2           NaN    NaN  POINT (139.7 35.7)  \n",
      "3           NaN    NaN  POINT (139.7 35.7)  \n",
      "4           NaN    NaN  POINT (139.7 35.7)  \n",
      "...         ...    ...                 ...  \n",
      "11029       NaN    NaN  POINT (139.7 35.7)  \n",
      "11030       NaN    NaN  POINT (139.7 35.7)  \n",
      "11031       NaN    NaN  POINT (139.7 35.7)  \n",
      "11032       NaN    NaN  POINT (139.7 35.7)  \n",
      "11033       NaN    NaN  POINT (139.7 35.7)  \n",
      "\n",
      "[11034 rows x 9 columns]\n"
     ]
    }
   ],
   "source": [
    "print(query.vdf)"
   ]
  },
  {
   "cell_type": "code",
   "execution_count": null,
   "id": "bfd5b991",
   "metadata": {},
   "outputs": [],
   "source": []
  },
  {
   "cell_type": "code",
   "execution_count": null,
   "id": "b697d973",
   "metadata": {},
   "outputs": [],
   "source": []
  },
  {
   "cell_type": "code",
   "execution_count": 1,
   "id": "88723e73",
   "metadata": {},
   "outputs": [
    {
     "name": "stderr",
     "output_type": "stream",
     "text": [
      "`pairsHost`='https://pairs.res.ibm.com/' and `baseURI`='/' merged to: 'https://pairs.res.ibm.com/'\n",
      "C:\\Users\\Didem Durukan\\AppData\\Local\\Programs\\Python\\Python310\\lib\\site-packages\\pandas\\core\\dtypes\\cast.py:122: ShapelyDeprecationWarning: The array interface is deprecated and will no longer work in Shapely 2.0. Convert the '.coords' to a numpy array instead.\n",
      "  arr = construct_1d_object_array_from_listlike(values)\n",
      "GeoPandas not available on your system. Cannot convert vector dataframe to GeoPandas dataframe.\n"
     ]
    },
    {
     "name": "stdout",
     "output_type": "stream",
     "text": [
      "       layerId      timestamp  longitude  latitude       value  region  \\\n",
      "0        16100  1421528400000      139.7      35.7  273.918213     NaN   \n",
      "1        16100  1421539200000      139.7      35.7  276.215088     NaN   \n",
      "2        16100  1421550000000      139.7      35.7  279.270203     NaN   \n",
      "3        16100  1421560800000      139.7      35.7  280.529205     NaN   \n",
      "4        16100  1421571600000      139.7      35.7  278.194702     NaN   \n",
      "...        ...            ...        ...       ...         ...     ...   \n",
      "11029    16100  1540900800000      139.7      35.7  292.996490     NaN   \n",
      "11030    16100  1540911600000      139.7      35.7  290.832428     NaN   \n",
      "11031    16100  1540922400000      139.7      35.7  289.580719     NaN   \n",
      "11032    16100  1540933200000      139.7      35.7  288.469727     NaN   \n",
      "11033    16100  1540944000000      139.7      35.7  289.536591     NaN   \n",
      "\n",
      "       property  alias            geometry  \n",
      "0           NaN    NaN  POINT (139.7 35.7)  \n",
      "1           NaN    NaN  POINT (139.7 35.7)  \n",
      "2           NaN    NaN  POINT (139.7 35.7)  \n",
      "3           NaN    NaN  POINT (139.7 35.7)  \n",
      "4           NaN    NaN  POINT (139.7 35.7)  \n",
      "...         ...    ...                 ...  \n",
      "11029       NaN    NaN  POINT (139.7 35.7)  \n",
      "11030       NaN    NaN  POINT (139.7 35.7)  \n",
      "11031       NaN    NaN  POINT (139.7 35.7)  \n",
      "11032       NaN    NaN  POINT (139.7 35.7)  \n",
      "11033       NaN    NaN  POINT (139.7 35.7)  \n",
      "\n",
      "[11034 rows x 9 columns]\n"
     ]
    }
   ],
   "source": []
  },
  {
   "cell_type": "code",
   "execution_count": null,
   "id": "c88953a8",
   "metadata": {},
   "outputs": [],
   "source": []
  },
  {
   "cell_type": "code",
   "execution_count": null,
   "id": "792fb063",
   "metadata": {},
   "outputs": [],
   "source": []
  },
  {
   "cell_type": "code",
   "execution_count": null,
   "id": "566c61f1",
   "metadata": {},
   "outputs": [],
   "source": []
  },
  {
   "cell_type": "code",
   "execution_count": null,
   "id": "bf334dfe",
   "metadata": {},
   "outputs": [],
   "source": []
  }
 ],
 "metadata": {
  "kernelspec": {
   "display_name": "Python 3 (ipykernel)",
   "language": "python",
   "name": "python3"
  },
  "language_info": {
   "codemirror_mode": {
    "name": "ipython",
    "version": 3
   },
   "file_extension": ".py",
   "mimetype": "text/x-python",
   "name": "python",
   "nbconvert_exporter": "python",
   "pygments_lexer": "ipython3",
   "version": "3.10.2"
  }
 },
 "nbformat": 4,
 "nbformat_minor": 5
}
